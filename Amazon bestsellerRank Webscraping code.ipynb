{
 "cells": [
  {
   "cell_type": "code",
   "execution_count": 1,
   "id": "8e54ca6a",
   "metadata": {},
   "outputs": [
    {
     "name": "stderr",
     "output_type": "stream",
     "text": [
      "\n",
      "[notice] A new release of pip is available: 23.0.1 -> 23.1.2\n",
      "[notice] To update, run: python.exe -m pip install --upgrade pip\n",
      "\n",
      "[notice] A new release of pip is available: 23.0.1 -> 23.1.2\n",
      "[notice] To update, run: python.exe -m pip install --upgrade pip\n"
     ]
    }
   ],
   "source": [
    "!pip install requests beautifulsoup4 --upgrade --quiet\n",
    "!pip install mysql-connector-python --upgrade --quiet"
   ]
  },
  {
   "cell_type": "code",
   "execution_count": 2,
   "id": "1f4cffb1",
   "metadata": {},
   "outputs": [],
   "source": [
    "import requests\n",
    "from bs4 import BeautifulSoup\n",
    "import time\n",
    "import datetime\n",
    "import smtplib\n",
    "from email.mime.multipart import MIMEMultipart\n",
    "from email.mime.text import MIMEText\n",
    "import mysql.connector\n",
    "\n",
    "urls = [\n",
    "    'https://www.amazon.in/Henlo-Supplement-Vitamin-Nutrition-Support/dp/B09STSYFTP/ref=sr_1_1?keywords=henlo+topper&qid=1686568008&sr=8-1',\n",
    "    'https://www.amazon.in/Henlo-Human-Grade-Ingredients-Nutritionally-Balanced/dp/B0BVRVLJJ9/ref=sr_1_1_sspa?crid=BFDCEXXPBCZ1&keywords=henlo%2Bdog%2Bfood&qid=1686553729&s=pet-supplies&sprefix=henlo%2Bdog%2Bfoo%2Cpets%2C333&sr=1-1-spons&sp_csd=d2lkZ2V0TmFtZT1zcF9hdGY&th=1',\n",
    "    'https://www.amazon.in/Ykibble-Dog-Food-Adult-Nutritionally/dp/B09WF68DVF?th=1',\n",
    "    'https://www.amazon.in/Wiggles-EveryDawg-Adult-Chicken-Vegetables/dp/B0BQ6SH6HJ/ref=zg_bs_17169008031_sccl_1/257-2965700-7927855?psc=1'\n",
    "       ] \n",
    "headers = {'User-Agent': 'Mozilla/5.0 (Windows NT 6.1) AppleWebKit/537.36 (KHTML, like Gecko) Chrome/41.0.2228.0 Safari/537.36',}\n",
    "\n",
    "mydb = mysql.connector.connect(host=\"35.200.229.177\", user=\"analyticsuser\", password=\"PI-fZOdeMu*0fiG|\", database=\"analytics\")\n",
    "# Create a cursor object\n",
    "mycursor = mydb.cursor()"
   ]
  },
  {
   "cell_type": "code",
   "execution_count": 3,
   "id": "8bc818b6",
   "metadata": {},
   "outputs": [],
   "source": [
    "def send_email(subject, message):\n",
    "    # Email configuration\n",
    "    sender_email = 'rahul.alovespets@supertails.com'  # Your Gmail email address\n",
    "    receiver_email = 'rahul.alovespets@supertails.com'  # Recipient email address\n",
    "\n",
    "    # SMTP server configuration\n",
    "    smtp_server = 'smtp.gmail.com'  # Gmail SMTP server\n",
    "    smtp_port = 587  # SMTP server port number\n",
    "    smtp_username = 'rahul.alovespets@supertails.com'  # Your Gmail email address\n",
    "    smtp_password = 'Rahul@3784'  # Your Gmail account password\n",
    "\n",
    "    # Create a MIME message\n",
    "    msg = MIMEMultipart()\n",
    "    msg['From'] = sender_email\n",
    "    msg['To'] = receiver_email\n",
    "    msg['Subject'] = subject\n",
    "\n",
    "    # Attach the email message\n",
    "    msg.attach(MIMEText(message, 'plain'))\n",
    "\n",
    "    try:\n",
    "        # Create a SMTP session\n",
    "        with smtplib.SMTP(smtp_server, smtp_port) as server:\n",
    "            server.starttls()  # Enable TLS encryption\n",
    "            server.login(smtp_username, smtp_password)  # Login to the SMTP server\n",
    "            server.sendmail(sender_email, receiver_email, msg.as_string())  # Send the email\n",
    "        print('Email sent successfully!')\n",
    "    except Exception as e:\n",
    "        print('Error sending email:', str(e))"
   ]
  },
  {
   "cell_type": "code",
   "execution_count": 4,
   "id": "2c8671fd",
   "metadata": {},
   "outputs": [
    {
     "name": "stdout",
     "output_type": "stream",
     "text": [
      "200\n",
      "#314 in Pet Supplies (See Top 100 in Pet Supplies)  #10 in Dog Supplements & Vitamins  #35 in Home\n",
      "Henlo Everyday Topper | Joint Support, Heart, Skin & Coat and Gut Health | Dog Supplement | Human Grade Ingredients | All Life Stages | 100 gm Pack\n",
      "2023-06-15 10:29:35.663418\n",
      "200\n",
      "#282 in Pet Supplies (See Top 100 in Pet Supplies)  #34 in Home  #47 in Dry Dog Food\n",
      "Henlo Baked Dry Food for Adult Dogs | 100% Human-Grade Ingredients | Nutritionally Balanced Everyday Dog Food | Made in India | Chicken Flavour | 1KG\n",
      "2023-06-15 10:29:51.440949\n",
      "200\n",
      "#1,792 in Pet Supplies (See Top 100 in Pet Supplies)  #143 in Dry Dog Food\n",
      "WIGGLES Ykibble Dog Food Adult Pet, 900 gm - Oven Baked Nutritionally Balanced Food - Chicken, Vegetables, Vitamins & Minerals\n",
      "2023-06-15 10:30:07.424985\n",
      "200\n",
      "#333 in Pet Supplies (See Top 100 in Pet Supplies)  #50 in Dry Dog Food\n",
      "Wiggles EveryDawg Dry Adult Dog Food, 1.2kg (Chicken, Oats & Vegetables)\n",
      "2023-06-15 10:30:23.248220\n"
     ]
    }
   ],
   "source": [
    "def scrape():\n",
    "          \n",
    "        empty_lst=[]\n",
    "        for index, url in enumerate(urls):\n",
    "            resp = requests.get(url, headers=headers)\n",
    "            time.sleep(5)\n",
    "\n",
    "            if resp.status_code != 200:\n",
    "                send_email('URL Error', f\"The URL at index {index} returned a status code of {resp.status_code}. URL: {url}\")\n",
    "                continue\n",
    "\n",
    "            soup = BeautifulSoup(resp.text)\n",
    "            time.sleep(5)\n",
    "            print(resp.status_code)\n",
    "\n",
    "            time_stramp = datetime.datetime.now()\n",
    "            title = soup.find('span', {'id': 'productTitle'}).text.strip()\n",
    "            table = soup.find('table', {'id': 'productDetails_detailBullets_sections1'})\n",
    "            trs = table.find_all('tr')\n",
    "            rank = trs[-1].find('td')\n",
    "            tds = rank.find_all('span')[0].text.strip()\n",
    "            print(tds)\n",
    "            print(title)\n",
    "            print(time_stramp)\n",
    "            # Store the product info in a dictionary\n",
    "            product_dict = { \"timestamp\": time_stramp, \"product_title\": title, \"best_seller_rank\": tds }\n",
    "            empty_lst.append(product_dict)\n",
    "            time.sleep(3)\n",
    "        return empty_lst\n",
    "\n",
    "data=scrape()"
   ]
  },
  {
   "cell_type": "code",
   "execution_count": 5,
   "id": "5da2b28e",
   "metadata": {},
   "outputs": [],
   "source": [
    "def insert_data_to_sql(data):\n",
    "    # Convert list of dictionaries to list of tuples\n",
    "    tuples_data = [(d['timestamp'], d['product_title'], d['best_seller_rank']) for d in data]\n",
    "    val=[]\n",
    "    for tuple_item in tuples_data:\n",
    "        val.append(tuple_item)\n",
    "\n",
    "    tuple(val)\n",
    "\n",
    "    # Prepare the SQL statement\n",
    "    sql = \"INSERT INTO henloAmazonRank (timestamp, products, bestSellerRank) VALUES (%s, %s, %s)\"\n",
    "\n",
    "    # Execute the SQL statement\n",
    "    mycursor.executemany(sql, tuples_data)\n",
    "\n",
    "    # Commit the changes\n",
    "    mydb.commit()\n",
    "\n",
    "    # Print the number of records inserted\n",
    "    print(mycursor.rowcount, \"record(s) inserted.\")"
   ]
  },
  {
   "cell_type": "code",
   "execution_count": 6,
   "id": "225340be",
   "metadata": {},
   "outputs": [
    {
     "name": "stdout",
     "output_type": "stream",
     "text": [
      "4 record(s) inserted.\n"
     ]
    }
   ],
   "source": [
    "insert_data_to_sql(data)"
   ]
  },
  {
   "cell_type": "code",
   "execution_count": null,
   "id": "b3220dd6",
   "metadata": {},
   "outputs": [],
   "source": []
  }
 ],
 "metadata": {
  "kernelspec": {
   "display_name": "Python 3 (ipykernel)",
   "language": "python",
   "name": "python3"
  },
  "language_info": {
   "codemirror_mode": {
    "name": "ipython",
    "version": 3
   },
   "file_extension": ".py",
   "mimetype": "text/x-python",
   "name": "python",
   "nbconvert_exporter": "python",
   "pygments_lexer": "ipython3",
   "version": "3.10.11"
  }
 },
 "nbformat": 4,
 "nbformat_minor": 5
}
